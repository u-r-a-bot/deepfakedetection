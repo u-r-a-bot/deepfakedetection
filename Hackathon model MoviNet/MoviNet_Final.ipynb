{
  "nbformat": 4,
  "nbformat_minor": 0,
  "metadata": {
    "colab": {
      "provenance": []
    },
    "kernelspec": {
      "name": "python3",
      "display_name": "Python 3"
    },
    "language_info": {
      "name": "python"
    }
  },
  "cells": [
    {
      "cell_type": "code",
      "execution_count": 1,
      "metadata": {
        "id": "E2ic9w7dpzou"
      },
      "outputs": [],
      "source": [
        "import tensorflow as tf"
      ]
    },
    {
      "cell_type": "code",
      "source": [
        "loaded_model = tf.saved_model.load('/content/movinet-model-final')"
      ],
      "metadata": {
        "id": "t-bS3HRjrQmR"
      },
      "execution_count": 2,
      "outputs": []
    },
    {
      "cell_type": "code",
      "source": [
        "import cv2\n",
        "\n",
        "def get_frames(video_path, duration=5):\n",
        "    frames = []\n",
        "    capture = cv2.VideoCapture(video_path)\n",
        "    fps = capture.get(cv2.CAP_PROP_FPS)\n",
        "    num_frames_to_read = int(fps * duration)\n",
        "    capture.set(cv2.CAP_PROP_POS_FRAMES, 0)\n",
        "\n",
        "    for _ in range(num_frames_to_read):\n",
        "        ret, frame = capture.read()\n",
        "        if not ret:\n",
        "            break\n",
        "        frame = cv2.cvtColor(frame, cv2.COLOR_BGR2RGB)\n",
        "        frame = cv2.resize(frame, (224,224))\n",
        "        frames.append(frame)\n",
        "\n",
        "    capture.release()\n",
        "    return np.array(frames)/255"
      ],
      "metadata": {
        "id": "6Dg7KOe2sfi0"
      },
      "execution_count": 4,
      "outputs": []
    },
    {
      "cell_type": "code",
      "source": [
        "import numpy as np"
      ],
      "metadata": {
        "id": "GyUAY3ilrb5z"
      },
      "execution_count": 3,
      "outputs": []
    },
    {
      "cell_type": "code",
      "source": [
        "path = \"/content/agqphdxmwt.mp4\"\n",
        "\n",
        "test = get_frames(path)\n",
        "test = [test]\n",
        "test = np.array(test,dtype = np.float32)\n",
        "test.shape"
      ],
      "metadata": {
        "colab": {
          "base_uri": "https://localhost:8080/"
        },
        "id": "VvGqD1FNrrAj",
        "outputId": "3b535c78-a00e-4489-fd4b-cc82981bc50d"
      },
      "execution_count": 5,
      "outputs": [
        {
          "output_type": "execute_result",
          "data": {
            "text/plain": [
              "(1, 149, 224, 224, 3)"
            ]
          },
          "metadata": {},
          "execution_count": 5
        }
      ]
    },
    {
      "cell_type": "code",
      "source": [
        "test = tf.convert_to_tensor(test)"
      ],
      "metadata": {
        "id": "vRDffq59shDP"
      },
      "execution_count": 6,
      "outputs": []
    },
    {
      "cell_type": "code",
      "source": [
        "concrete_func = loaded_model.signatures['serving_default']\n",
        "\n",
        "# Call the concrete function with the input tensor\n",
        "output_dict = concrete_func(image=test)"
      ],
      "metadata": {
        "id": "jVabkS_pslSA"
      },
      "execution_count": 7,
      "outputs": []
    },
    {
      "cell_type": "code",
      "source": [
        "logits = output_dict['classifier_head_1']\n",
        "logits = np.array(logits).reshape(-1)\n",
        "\n",
        "probabilities = tf.nn.softmax(logits)\n",
        "probabilities = probabilities.numpy()\n",
        "print(\"Predicted probabilities:\", probabilities)"
      ],
      "metadata": {
        "colab": {
          "base_uri": "https://localhost:8080/"
        },
        "id": "DBhFRzucsp4f",
        "outputId": "72c6e392-70f0-48d7-d13b-f8d5056a7ffb"
      },
      "execution_count": 8,
      "outputs": [
        {
          "output_type": "stream",
          "name": "stdout",
          "text": [
            "Predicted probabilities: [0.33427495 0.66572505]\n"
          ]
        }
      ]
    },
    {
      "cell_type": "code",
      "source": [],
      "metadata": {
        "id": "z7fNkiRttL_A"
      },
      "execution_count": null,
      "outputs": []
    }
  ]
}